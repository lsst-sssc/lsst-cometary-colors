{
 "cells": [
  {
   "cell_type": "markdown",
   "id": "cc75e8ca",
   "metadata": {},
   "source": [
    "# Calculate cometary coma colors in LSST filters from gas and dust production rates\n",
    "\n",
    "Generate model coma fluxes using the Afρ model for dust and the Haser model for gas."
   ]
  },
  {
   "cell_type": "markdown",
   "id": "2773e71a",
   "metadata": {},
   "source": [
    "## Requirements\n",
    "\n",
    "Recent version of `sbpy`, `astropy`.  Some kind of `matplotlib` for figures."
   ]
  },
  {
   "cell_type": "code",
   "execution_count": 1,
   "id": "96ded665",
   "metadata": {
    "scrolled": true
   },
   "outputs": [],
   "source": [
    "# pip install git+https://git@github.com/NASA-Planetary-Science/sbpy.git#egg=sbpy"
   ]
  },
  {
   "cell_type": "code",
   "execution_count": 2,
   "id": "2f3da6e0",
   "metadata": {},
   "outputs": [],
   "source": [
    "import numpy as np\n",
    "import astropy.units as u\n",
    "from astropy.io import ascii\n",
    "from astropy.table import Table\n",
    "from sbpy.activity import CircularAperture\n",
    "from sbpy.data import Ephem\n",
    "import sbpy.units as sbu\n",
    "from sbpy.spectroscopy import SpectralGradient\n",
    "from lsst_cometary_colors import Comet, lambda_eff"
   ]
  },
  {
   "cell_type": "markdown",
   "id": "a99d68f0",
   "metadata": {},
   "source": [
    "## Gas reference data\n",
    "\n",
    "Scalelengths, band emission g-factors, and throughput for LSST filters."
   ]
  },
  {
   "cell_type": "code",
   "execution_count": 3,
   "id": "a7c4dcbf",
   "metadata": {},
   "outputs": [
    {
     "data": {
      "text/html": [
       "<i>Table length=5</i>\n",
       "<table id=\"table140590320006144-397361\" class=\"table-striped table-bordered table-condensed\">\n",
       "<thead><tr><th>idx</th><th>molecule</th><th>gamma parent</th><th>gamma daughter</th><th>gamma reference</th></tr></thead>\n",
       "<tr><td>0</td><td>NH</td><td>50000.0</td><td>150000.0</td><td>Randall et al. (1993)</td></tr>\n",
       "<tr><td>1</td><td>CN</td><td>13000.0</td><td>210000.0</td><td>Randall et al. (1993)</td></tr>\n",
       "<tr><td>2</td><td>C3</td><td>2800.0</td><td>27000.0</td><td>Randall et al. (1993)</td></tr>\n",
       "<tr><td>3</td><td>C2</td><td>22000.0</td><td>66000.0</td><td>Randall et al. (1993)</td></tr>\n",
       "<tr><td>4</td><td>NH2</td><td>4900.0</td><td>62000.0</td><td>Fink et al. (1991)</td></tr>\n",
       "</table><style>table.dataTable {clear: both; width: auto !important; margin: 0 !important;}\n",
       ".dataTables_info, .dataTables_length, .dataTables_filter, .dataTables_paginate{\n",
       "display: inline-block; margin-right: 1em; }\n",
       ".paginate_button { margin-right: 5px; }\n",
       "</style>\n",
       "<script>\n",
       "\n",
       "var astropy_sort_num = function(a, b) {\n",
       "    var a_num = parseFloat(a);\n",
       "    var b_num = parseFloat(b);\n",
       "\n",
       "    if (isNaN(a_num) && isNaN(b_num))\n",
       "        return ((a < b) ? -1 : ((a > b) ? 1 : 0));\n",
       "    else if (!isNaN(a_num) && !isNaN(b_num))\n",
       "        return ((a_num < b_num) ? -1 : ((a_num > b_num) ? 1 : 0));\n",
       "    else\n",
       "        return isNaN(a_num) ? -1 : 1;\n",
       "}\n",
       "\n",
       "require.config({paths: {\n",
       "    datatables: 'https://cdn.datatables.net/1.10.12/js/jquery.dataTables.min'\n",
       "}});\n",
       "require([\"datatables\"], function(){\n",
       "    console.log(\"$('#table140590320006144-397361').dataTable()\");\n",
       "    \n",
       "jQuery.extend( jQuery.fn.dataTableExt.oSort, {\n",
       "    \"optionalnum-asc\": astropy_sort_num,\n",
       "    \"optionalnum-desc\": function (a,b) { return -astropy_sort_num(a, b); }\n",
       "});\n",
       "\n",
       "    $('#table140590320006144-397361').dataTable({\n",
       "        order: [],\n",
       "        pageLength: 50,\n",
       "        lengthMenu: [[10, 25, 50, 100, 500, 1000, -1], [10, 25, 50, 100, 500, 1000, 'All']],\n",
       "        pagingType: \"full_numbers\",\n",
       "        columnDefs: [{targets: [0, 2, 3], type: \"optionalnum\"}]\n",
       "    });\n",
       "});\n",
       "</script>\n"
      ],
      "text/plain": [
       "<IPython.core.display.HTML object>"
      ]
     },
     "execution_count": 3,
     "metadata": {},
     "output_type": "execute_result"
    }
   ],
   "source": [
    "ascii.read(\"scalelengths.csv\", delimiter=\",\").show_in_notebook()"
   ]
  },
  {
   "cell_type": "code",
   "execution_count": 4,
   "id": "29cd177f",
   "metadata": {},
   "outputs": [
    {
     "data": {
      "text/html": [
       "<i>Table length=23</i>\n",
       "<table id=\"table140589702249728-875383\" class=\"table-striped table-bordered table-condensed\">\n",
       "<thead><tr><th>idx</th><th>molecule</th><th>band</th><th>wave</th><th>gfactor</th><th>reference</th><th>u</th><th>g</th><th>r</th><th>i</th><th>z</th><th>y</th></tr></thead>\n",
       "<tr><td>0</td><td>NH</td><td>(0-0)</td><td>0.01</td><td>3358.0</td><td>Kim et al. (1989)</td><td>1.0</td><td>0.0</td><td>0.0</td><td>0.0</td><td>0.0</td><td>0.0</td></tr>\n",
       "<tr><td>1</td><td>CN</td><td>(Delta-nu=0)</td><td>3870.0</td><td>0.078</td><td>Schleicher (1983)</td><td>1.0</td><td>1.0</td><td>0.0</td><td>0.0</td><td>0.0</td><td>0.0</td></tr>\n",
       "<tr><td>2</td><td>CN</td><td>(2-0)</td><td>--</td><td>nan</td><td>Fink (1994)</td><td>0.0</td><td>0.0</td><td>0.0</td><td>1.0</td><td>0.0</td><td>0.0</td></tr>\n",
       "<tr><td>3</td><td>CN</td><td>(1-0)</td><td>--</td><td>nan</td><td>Fink (1994)</td><td>0.0</td><td>0.0</td><td>0.0</td><td>0.0</td><td>1.0</td><td>1.0</td></tr>\n",
       "<tr><td>4</td><td>C3</td><td>(4050)</td><td>4050.0</td><td>0.2</td><td>A&apos;Hearn et al. (1985)</td><td>1.0</td><td>1.0</td><td>0.0</td><td>0.0</td><td>0.0</td><td>0.0</td></tr>\n",
       "<tr><td>5</td><td>C2</td><td>(Delta-nu=1)</td><td>nan</td><td>nan</td><td>--</td><td>0.0</td><td>1.0</td><td>0.0</td><td>0.0</td><td>0.0</td><td>0.0</td></tr>\n",
       "<tr><td>6</td><td>C2</td><td>(Delta-nu=0)</td><td>5150.0</td><td>0.12</td><td>A&apos;Hearn (1982)</td><td>0.0</td><td>1.0</td><td>1.0</td><td>0.0</td><td>0.0</td><td>0.0</td></tr>\n",
       "<tr><td>7</td><td>C2</td><td>(Delta-nu=-1)</td><td>nan</td><td>nan</td><td>--</td><td>0.0</td><td>0.0</td><td>1.0</td><td>0.0</td><td>0.0</td><td>0.0</td></tr>\n",
       "<tr><td>8</td><td>NH2</td><td>(3-0) Sigma</td><td>8159.0</td><td>0.00021</td><td>Tegler and Wyckoff (1989)</td><td>0.0</td><td>0.0</td><td>0.0</td><td>1.0</td><td>1.0</td><td>0.0</td></tr>\n",
       "<tr><td>9</td><td>NH2</td><td>(4-0) Pi</td><td>7935.0</td><td>0.00024</td><td>Tegler and Wyckoff (1989)</td><td>0.0</td><td>0.0</td><td>0.0</td><td>1.0</td><td>1.0</td><td>0.0</td></tr>\n",
       "<tr><td>10</td><td>NH2</td><td>(5-0) Sigma</td><td>7356.0</td><td>0.00133</td><td>Tegler and Wyckoff (1989)</td><td>0.0</td><td>0.0</td><td>0.0</td><td>1.0</td><td>0.0</td><td>0.0</td></tr>\n",
       "<tr><td>11</td><td>NH2</td><td>(6-0) Pi</td><td>6988.0</td><td>0.00184</td><td>Tegler and Wyckoff (1989)</td><td>0.0</td><td>0.0</td><td>1.0</td><td>1.0</td><td>0.0</td><td>0.0</td></tr>\n",
       "<tr><td>12</td><td>NH2</td><td>(7-0) Lambda</td><td>7106.0</td><td>0.00145</td><td>Tegler and Wyckoff (1989)</td><td>0.0</td><td>0.0</td><td>0.0</td><td>1.0</td><td>0.0</td><td>0.0</td></tr>\n",
       "<tr><td>13</td><td>NH2</td><td>(7-0) Sigma</td><td>6624.0</td><td>0.00407</td><td>Tegler and Wyckoff (1989)</td><td>0.0</td><td>0.0</td><td>1.0</td><td>0.0</td><td>0.0</td><td>0.0</td></tr>\n",
       "<tr><td>14</td><td>NH2</td><td>(8-0) Pi</td><td>6312.0</td><td>0.00495</td><td>Tegler and Wyckoff (1989)</td><td>0.0</td><td>0.0</td><td>1.0</td><td>0.0</td><td>0.0</td><td>0.0</td></tr>\n",
       "<tr><td>15</td><td>NH2</td><td>(9-0) Sigma</td><td>5982.0</td><td>0.006</td><td>Tegler and Wyckoff (1989)</td><td>0.0</td><td>0.0</td><td>1.0</td><td>0.0</td><td>0.0</td><td>0.0</td></tr>\n",
       "<tr><td>16</td><td>NH2</td><td>(9-0) Delta</td><td>6060.0</td><td>0.00503</td><td>Tegler and Wyckoff (1989)</td><td>0.0</td><td>0.0</td><td>1.0</td><td>0.0</td><td>0.0</td><td>0.0</td></tr>\n",
       "<tr><td>17</td><td>NH2</td><td>(10-0) Pi</td><td>5704.0</td><td>0.0053</td><td>Tegler and Wyckoff (1989)</td><td>0.0</td><td>1.0</td><td>1.0</td><td>0.0</td><td>0.0</td><td>0.0</td></tr>\n",
       "<tr><td>18</td><td>NH2</td><td>(11-0) Sigma</td><td>5418.0</td><td>0.00417</td><td>Tegler and Wyckoff (1989)</td><td>0.0</td><td>1.0</td><td>1.0</td><td>0.0</td><td>0.0</td><td>0.0</td></tr>\n",
       "<tr><td>19</td><td>NH2</td><td>(12-0) Pi</td><td>5182.0</td><td>0.00243</td><td>Tegler and Wyckoff (1989)</td><td>0.0</td><td>1.0</td><td>0.0</td><td>0.0</td><td>0.0</td><td>0.0</td></tr>\n",
       "<tr><td>20</td><td>NH2</td><td>(13-0) Sigma</td><td>4935.0</td><td>0.00152</td><td>Tegler and Wyckoff (1989)</td><td>0.0</td><td>1.0</td><td>0.0</td><td>0.0</td><td>0.0</td><td>0.0</td></tr>\n",
       "<tr><td>21</td><td>NH2</td><td>(14-0) Pi</td><td>4726.0</td><td>0.00077</td><td>Tegler and Wyckoff (1989)</td><td>0.0</td><td>1.0</td><td>0.0</td><td>0.0</td><td>0.0</td><td>0.0</td></tr>\n",
       "<tr><td>22</td><td>NH2</td><td>(15-0) Sigma</td><td>4514.0</td><td>0.00035</td><td>Tegler and Wyckoff (1989)</td><td>0.0</td><td>1.0</td><td>0.0</td><td>0.0</td><td>0.0</td><td>0.0</td></tr>\n",
       "</table><style>table.dataTable {clear: both; width: auto !important; margin: 0 !important;}\n",
       ".dataTables_info, .dataTables_length, .dataTables_filter, .dataTables_paginate{\n",
       "display: inline-block; margin-right: 1em; }\n",
       ".paginate_button { margin-right: 5px; }\n",
       "</style>\n",
       "<script>\n",
       "\n",
       "var astropy_sort_num = function(a, b) {\n",
       "    var a_num = parseFloat(a);\n",
       "    var b_num = parseFloat(b);\n",
       "\n",
       "    if (isNaN(a_num) && isNaN(b_num))\n",
       "        return ((a < b) ? -1 : ((a > b) ? 1 : 0));\n",
       "    else if (!isNaN(a_num) && !isNaN(b_num))\n",
       "        return ((a_num < b_num) ? -1 : ((a_num > b_num) ? 1 : 0));\n",
       "    else\n",
       "        return isNaN(a_num) ? -1 : 1;\n",
       "}\n",
       "\n",
       "require.config({paths: {\n",
       "    datatables: 'https://cdn.datatables.net/1.10.12/js/jquery.dataTables.min'\n",
       "}});\n",
       "require([\"datatables\"], function(){\n",
       "    console.log(\"$('#table140589702249728-875383').dataTable()\");\n",
       "    \n",
       "jQuery.extend( jQuery.fn.dataTableExt.oSort, {\n",
       "    \"optionalnum-asc\": astropy_sort_num,\n",
       "    \"optionalnum-desc\": function (a,b) { return -astropy_sort_num(a, b); }\n",
       "});\n",
       "\n",
       "    $('#table140589702249728-875383').dataTable({\n",
       "        order: [],\n",
       "        pageLength: 50,\n",
       "        lengthMenu: [[10, 25, 50, 100, 500, 1000, -1], [10, 25, 50, 100, 500, 1000, 'All']],\n",
       "        pagingType: \"full_numbers\",\n",
       "        columnDefs: [{targets: [0, 3, 4, 6, 7, 8, 9, 10, 11], type: \"optionalnum\"}]\n",
       "    });\n",
       "});\n",
       "</script>\n"
      ],
      "text/plain": [
       "<IPython.core.display.HTML object>"
      ]
     },
     "execution_count": 4,
     "metadata": {},
     "output_type": "execute_result"
    }
   ],
   "source": [
    "ascii.read(\"emission-bands.csv\", delimiter=\",\").show_in_notebook()"
   ]
  },
  {
   "cell_type": "markdown",
   "id": "48199d93",
   "metadata": {},
   "source": [
    "## Coma models\n",
    "\n",
    "The coma is described by a set of abundances.\n",
    "\n",
    "The main observable in LSST data will be dust Afρ.  So, let's try to define the gas production rates with respect to this quantity.\n",
    "\n",
    "To make things a little bit easier, let's define the gases with respect to CN, and then get the absolute production rate of CN based on a Q(CN)/Afρ value.\n",
    "\n",
    "Why not water?  Just in case we need to test a wide range of heliocentric distances, but don't want unrealistic water production rates."
   ]
  },
  {
   "cell_type": "code",
   "execution_count": 5,
   "id": "65e389c2",
   "metadata": {},
   "outputs": [
    {
     "name": "stdout",
     "output_type": "stream",
     "text": [
      "Help on class Comet in module lsst_cometary_colors:\n",
      "\n",
      "class Comet(builtins.object)\n",
      " |  Comet(eph, a0frho, S_V=<Quantity 0.1 1 / 100 nm>, QCN_afrho=<Quantity 2.1e+23 1 / (cm s)>, **gas_ratios)\n",
      " |  \n",
      " |  Comet = gas + dust.\n",
      " |  \n",
      " |  \n",
      " |  Parameters\n",
      " |  ----------\n",
      " |  eph : sbpy Ephem\n",
      " |      rh, delta, and phase.\n",
      " |  \n",
      " |  a0frho : astropy Quantity\n",
      " |      Dust production rate proxy at 0 deg phase angle at 0.55 μm, units of\n",
      " |      length.\n",
      " |  \n",
      " |  S_V : astropy Quantity, inverse length\n",
      " |      Spectral gradient at 0.55 μm (V-band).\n",
      " |  \n",
      " |  QCN_afrho : astropy Quantity\n",
      " |      Ratio of CN production rate to Afρ value.  Default is from A'Hearn et al.\n",
      " |      (1995):  CN / OH * OH / Afρ  = 10**(-2.50 + 25.82) = 2.1e23 cm / s.\n",
      " |  \n",
      " |  **gas_ratios :\n",
      " |      Additional keyword arguments are passed to ``Gas()``, e.g., NH_CN, C3_CN,\n",
      " |      C2_CN, and/or NH2_CN.\n",
      " |  \n",
      " |  Methods defined here:\n",
      " |  \n",
      " |  __init__(self, eph, a0frho, S_V=<Quantity 0.1 1 / 100 nm>, QCN_afrho=<Quantity 2.1e+23 1 / (cm s)>, **gas_ratios)\n",
      " |      Initialize self.  See help(type(self)) for accurate signature.\n",
      " |  \n",
      " |  fluxd(self, filt, aper)\n",
      " |      Calculate effective flux density in requested LSST filter.\n",
      " |      \n",
      " |      \n",
      " |      Parameters\n",
      " |      ----------\n",
      " |      filt : string\n",
      " |          u, g, r, i, z, or y.\n",
      " |      \n",
      " |      aper : sbpy Aperture or astropy Quantity (length)\n",
      " |          Photometric aperture.\n",
      " |  \n",
      " |  fraction(self, filt, aper)\n",
      " |      Same as fluxd, but for relative fraction.\n",
      " |      \n",
      " |      \n",
      " |      Returns\n",
      " |      -------\n",
      " |      frac : dict\n",
      " |          Relative fraction keyed by source (dust, gas, gas band, or\n",
      " |          molecule).\n",
      " |  \n",
      " |  m(self, filt, aper)\n",
      " |      Same as fluxd, but for magnitudes.\n",
      " |  \n",
      " |  ----------------------------------------------------------------------\n",
      " |  Readonly properties defined here:\n",
      " |  \n",
      " |  Q\n",
      " |  \n",
      " |  eph\n",
      " |  \n",
      " |  ----------------------------------------------------------------------\n",
      " |  Data descriptors defined here:\n",
      " |  \n",
      " |  __dict__\n",
      " |      dictionary for instance variables (if defined)\n",
      " |  \n",
      " |  __weakref__\n",
      " |      list of weak references to the object (if defined)\n",
      "\n"
     ]
    }
   ],
   "source": [
    "help(Comet)"
   ]
  },
  {
   "cell_type": "code",
   "execution_count": 6,
   "id": "1c551ddb",
   "metadata": {},
   "outputs": [
    {
     "name": "stdout",
     "output_type": "stream",
     "text": [
      "gas + dust: g-r = [-0.04447034] mag\n",
      "dust only: g-r = [0.57042126] mag\n",
      "Fractional contributions to g:\n",
      "  dust: 0.22029507540894053\n",
      "  gas: 0.7797049245910596\n",
      "  CN: {'total': 0.36966398158782593, '(Delta-nu=0)': 0.36966398158782593}\n",
      "  C3: {'total': 0.034538722517437746, '(4050)': 0.034538722517437746}\n",
      "  C2: {'total': 0.3084178851168721, '(Delta-nu=0)': 0.3084178851168721}\n",
      "  NH2: {'total': 0.06708433536892373, '(10-0) Pi': 0.02445302458427069, '(11-0) Sigma': 0.01923945519177524, '(12-0) Pi': 0.011211481082976938, '(13-0) Sigma': 0.007012942899639895, '(14-0) Pi': 0.003552609232054421, '(15-0) Sigma': 0.0016148223782065552}\n",
      "Fractional contributions to r:\n",
      "  dust: 0.38811589298817545\n",
      "  gas: 0.6118841070118246\n",
      "  C2: {'total': 0.41649418597634735, '(Delta-nu=0)': 0.41649418597634735}\n",
      "  NH2: {'total': 0.19538992103547728, '(6-0) Pi': 0.011464204550550965, '(7-0) Sigma': 0.02535832202214262, '(8-0) Pi': 0.030841202459362657, '(9-0) Sigma': 0.03738327570831836, '(9-0) Delta': 0.031339646135473555, '(10-0) Pi': 0.03302189354234788, '(11-0) Sigma': 0.02598137661728126}\n"
     ]
    }
   ],
   "source": [
    "eph = Ephem.from_horizons('C/2019 L3')\n",
    "rho = CircularAperture(2 * u.arcsec).as_length(eph)\n",
    "comet = Comet(eph, 1000 * u.cm)\n",
    "gmr = comet.m('g', rho) - comet.m('r', rho)\n",
    "gmr_dust = comet.dust.m('g', rho) - comet.dust.m('r', rho)\n",
    "print(f'gas + dust: g-r = {gmr}')\n",
    "print(f'dust only: g-r = {gmr_dust}')\n",
    "print('Fractional contributions to g:')\n",
    "for component, f in comet.fraction('g', rho).items():\n",
    "    print(f'  {component}: {f}')\n",
    "print('Fractional contributions to r:')\n",
    "for component, f in comet.fraction('r', rho).items():\n",
    "    print(f'  {component}: {f}')"
   ]
  },
  {
   "cell_type": "code",
   "execution_count": null,
   "id": "4ae60e3c",
   "metadata": {},
   "outputs": [],
   "source": []
  }
 ],
 "metadata": {
  "kernelspec": {
   "display_name": "Python 3 (ipykernel)",
   "language": "python",
   "name": "python3"
  },
  "language_info": {
   "codemirror_mode": {
    "name": "ipython",
    "version": 3
   },
   "file_extension": ".py",
   "mimetype": "text/x-python",
   "name": "python",
   "nbconvert_exporter": "python",
   "pygments_lexer": "ipython3",
   "version": "3.9.7"
  }
 },
 "nbformat": 4,
 "nbformat_minor": 5
}
